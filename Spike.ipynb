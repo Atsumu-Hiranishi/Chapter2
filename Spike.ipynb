{
  "nbformat": 4,
  "nbformat_minor": 0,
  "metadata": {
    "colab": {
      "provenance": [],
      "authorship_tag": "ABX9TyOZ1a7ply/RsB97Do6g17qX",
      "include_colab_link": true
    },
    "kernelspec": {
      "name": "python3",
      "display_name": "Python 3"
    },
    "language_info": {
      "name": "python"
    }
  },
  "cells": [
    {
      "cell_type": "markdown",
      "metadata": {
        "id": "view-in-github",
        "colab_type": "text"
      },
      "source": [
        "<a href=\"https://colab.research.google.com/github/Atsumu-Hiranishi/Chapter2/blob/main/Spike.ipynb\" target=\"_parent\"><img src=\"https://colab.research.google.com/assets/colab-badge.svg\" alt=\"Open In Colab\"/></a>"
      ]
    },
    {
      "cell_type": "markdown",
      "source": [
        "## Spike.kt\n",
        "\n",
        "1. アプリケーションのルーティング設定\n",
        "\n",
        "Spike\n",
        "```\n",
        "val app: HttpHandler = routes(\n",
        "    \"/greetings\" bind GET to ::greetings,\n",
        "    \"/data\" bind POST to ::receiveData,\n",
        ")\n",
        "```\n",
        "\n",
        "\n",
        "- routes関数: 複数のルートをまとめて登録し、エンドポイントごとに異なる処理を割り当てるために使用する。\n",
        "- bind: 特定のHTTPメソッドとパスを指定して、その組み合わせに対応する関数を指定する。<br>\n",
        "この場合、以下のルートが設定されている\n",
        "- /greetings: GETメソッドが指定されているため、GETリクエストが送られたときにgreetings関数が呼び出される。\n",
        "- /data: POSTメソッドが指定されているため、POSTリクエストが送られたときにreceiveData関数が呼び出される。\n",
        "\n",
        "2. receiveData 関数\n",
        "\n",
        "\n",
        "```\n",
        "fun receiveData(req: Request): Response = Response(CREATED).body(\"Received ${req.bodyString()}\")\n",
        "```\n",
        "\n",
        "\n",
        "- 引数 req: クライアントからのリクエストを表す。\n",
        "- Responseオブジェクト: HTTPレスポンスを生成する。\n",
        "  - `CREATED`ステータス: 201 Createdのステータスコードを返す。\n",
        "  - bodyメソッド: レスポンスの本文に、リクエストのボディ内容を含むメッセージを設定する。\n",
        "\n",
        "\n",
        "3. greetings 関数\n",
        "\n",
        "\n",
        "```\n",
        "fun greetings(req: Request): Response = Response(OK).body(htmlPage)\n",
        "```\n",
        "\n",
        "\n",
        "- この関数は、GET /greetingsリクエストに対するレスポンスを生成する。\n",
        "- Response(OK): 200 OKのステータスコードを返す。\n",
        "- htmlPage: HTMLページをレスポンスボディとして返す。\n",
        "\n",
        "4. HTMLコンテンツ\n",
        "\n",
        "\n",
        "```\n",
        "val htmlPage = \"\"\"\n",
        "<html>\n",
        "    <body>\n",
        "        <h1 style=\"text-align:center; font-size:3em;\">Hello Functional World!</h1>\n",
        "    </body>\n",
        "</html>\"\"\"\n",
        "```\n",
        "\n",
        "\n",
        "greetings関数内で使用されるHTMLの内容で、ブラウザで/greetingsにアクセスするとこのページが表示される。\n",
        "\n",
        "5. サーバーの起動\n",
        "\n",
        "\n",
        "```\n",
        "fun main() {\n",
        "    app.asServer(Jetty(8080)).start()\n",
        "}\n",
        "```\n",
        "\n",
        "\n",
        "- asServer(Jetty(8080)): Jettyサーバーを使って、ポート8080でapp（ルーティング設定）を提供する。\n",
        "- start(): サーバーを起動する。\n"
      ],
      "metadata": {
        "id": "InAp1YZerQPo"
      }
    }
  ]
}