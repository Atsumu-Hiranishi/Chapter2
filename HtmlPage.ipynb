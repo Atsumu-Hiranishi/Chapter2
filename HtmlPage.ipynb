{
  "nbformat": 4,
  "nbformat_minor": 0,
  "metadata": {
    "colab": {
      "provenance": [],
      "authorship_tag": "ABX9TyMAJSMv1XjIYEx32PkBYGZ0",
      "include_colab_link": true
    },
    "kernelspec": {
      "name": "python3",
      "display_name": "Python 3"
    },
    "language_info": {
      "name": "python"
    }
  },
  "cells": [
    {
      "cell_type": "markdown",
      "metadata": {
        "id": "view-in-github",
        "colab_type": "text"
      },
      "source": [
        "<a href=\"https://colab.research.google.com/github/Atsumu-Hiranishi/Chapter2/blob/main/HtmlPage.ipynb\" target=\"_parent\"><img src=\"https://colab.research.google.com/assets/colab-badge.svg\" alt=\"Open In Colab\"/></a>"
      ]
    },
    {
      "cell_type": "markdown",
      "source": [
        "\n",
        "## HtmlPage.kt\n",
        "1. HtmlPageデータクラス\n",
        "\n",
        "\n",
        "```\n",
        "data class HtmlPage(val raw: String)\n",
        "```\n",
        "\n",
        "\n",
        "- HtmlPageはString型のプロパティrawを持つデータクラスのこと。このクラスは、HTMLページ全体の内容を文字列として格納する。<br>\n",
        "- HtmlPageインスタンスを生成するとき、HTMLの生データ（文字列）を渡して保持する。<br>\n",
        "\n",
        "2. renderHtml関数\n",
        "\n",
        "\n",
        "```\n",
        "fun renderHtml(todoList: ToDoList): HtmlPage =\n",
        "    HtmlPage(\n",
        "        \"\"\"\n",
        "    <html>\n",
        "        <body>\n",
        "            <h1>Zettai</h1>\n",
        "            <h2>${todoList.listName.name}</h2>\n",
        "            <table>\n",
        "                <tbody>${renderItems(todoList.items)}</tbody>\n",
        "            </table>\n",
        "        </body>\n",
        "    </html>\n",
        "    \"\"\".trimIndent()\n",
        "    )\n",
        "```\n",
        "\n",
        "\n",
        "- この関数はToDoListオブジェクトを受け取り、それをHTMLページ形式に変換してHtmlPageインスタンスとして返す。\n",
        "- todoList.listName.nameを使って、ToDoリストの名前を\\<h2>タグ内に挿入する。\n",
        "- renderItems(todoList.items)がHTML文字列内で呼び出されており、todoList内の個々のToDoItemがテーブル形式で表示されるようにしている。\n",
        "- trimIndent()を使って、インデントを削除し、HTMLコードを整形している。<br>\n",
        "\n",
        "3. renderItems関数\n",
        "\n",
        "\n",
        "```\n",
        "private fun renderItems(items: List<ToDoItem>) =\n",
        "    items.map {\n",
        "        \"\"\"<tr><td>${it.description}</td></tr>\"\"\".trimIndent()\n",
        "    }.joinToString(\"\")\n",
        "```\n",
        "\n",
        "\n",
        "- この関数は、List<ToDoItem>型のアイテムリストを受け取り、各アイテムをHTMLの\\<tr>\\<td>\\</td>\\</tr>形式に変換する。\n",
        "- map関数でitemsリスト内の各ToDoItemについて処理を行い、it.description（アイテムの説明）を\\<td>タグ内に埋め込んでいる。\n",
        "- 各アイテムのHTML行を文字列として連結するため、joinToString(\"\")を使用している。<br>\n",
        "\n",
        "\n"
      ],
      "metadata": {
        "id": "nXZ-bfjQmMvN"
      }
    }
  ]
}