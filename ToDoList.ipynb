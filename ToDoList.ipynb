{
  "nbformat": 4,
  "nbformat_minor": 0,
  "metadata": {
    "colab": {
      "provenance": [],
      "authorship_tag": "ABX9TyOPzLBsn4kYtMYElBSeCa4Z",
      "include_colab_link": true
    },
    "kernelspec": {
      "name": "python3",
      "display_name": "Python 3"
    },
    "language_info": {
      "name": "python"
    }
  },
  "cells": [
    {
      "cell_type": "markdown",
      "metadata": {
        "id": "view-in-github",
        "colab_type": "text"
      },
      "source": [
        "<a href=\"https://colab.research.google.com/github/Atsumu-Hiranishi/Chapter2/blob/main/ToDoList.ipynb\" target=\"_parent\"><img src=\"https://colab.research.google.com/assets/colab-badge.svg\" alt=\"Open In Colab\"/></a>"
      ]
    },
    {
      "cell_type": "markdown",
      "source": [
        "## ToDoList.kt\n",
        "\n",
        "1. ListName データクラス\n",
        "\n",
        "\n",
        "```\n",
        "data class ListName(val name: String)\n",
        "```\n",
        "\n",
        "\n",
        "- **ListName**は、リストの名前を表すシンプルなデータクラス。\n",
        "- プロパティ name: String型で、ToDoリストの名前を保持する。\n",
        "\n",
        "2. ToDoList データクラス\n",
        "\n",
        "\n",
        "```\n",
        "data class ToDoList(val listName: ListName, val items: List<ToDoItem>)\n",
        "```\n",
        "\n",
        "\n",
        "- **ToDoList**は、特定のToDoリスト全体を表すデータクラス。\n",
        "- プロパティ listName: ListName型で、リストの名前情報を保持する。\n",
        "- プロパティ items: List\\<ToDoItem>型で、ToDoリスト内のアイテム（タスク）を保持するリストのこと。\n",
        "\n",
        "3. ToDoItem データクラス\n",
        "\n",
        "\n",
        "```\n",
        "data class ToDoItem(val description: String)\n",
        "```\n",
        "\n",
        "\n",
        "- **ToDoItem**は、1つのタスクを表すデータクラス。\n",
        "- プロパティ description: String型で、タスクの内容や説明を保持する。\n"
      ],
      "metadata": {
        "id": "SZKtGcn_tdDj"
      }
    }
  ]
}