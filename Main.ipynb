{
  "nbformat": 4,
  "nbformat_minor": 0,
  "metadata": {
    "colab": {
      "provenance": [],
      "authorship_tag": "ABX9TyPAJwDIxyoTpeazRVqlJvQp",
      "include_colab_link": true
    },
    "kernelspec": {
      "name": "python3",
      "display_name": "Python 3"
    },
    "language_info": {
      "name": "python"
    }
  },
  "cells": [
    {
      "cell_type": "markdown",
      "metadata": {
        "id": "view-in-github",
        "colab_type": "text"
      },
      "source": [
        "<a href=\"https://colab.research.google.com/github/Atsumu-Hiranishi/Chapter2/blob/main/Main.ipynb\" target=\"_parent\"><img src=\"https://colab.research.google.com/assets/colab-badge.svg\" alt=\"Open In Colab\"/></a>"
      ]
    },
    {
      "cell_type": "markdown",
      "source": [
        "## Main.kt\n",
        "1. 必要なインポート\n",
        "\n",
        "\n",
        "```\n",
        "import com.example.ListName\n",
        "import com.example.ToDoItem\n",
        "import com.example.ToDoList\n",
        "import com.example.User\n",
        "import org.http4k.core.HttpHandler\n",
        "import org.http4k.server.Jetty\n",
        "import org.http4k.server.asServer\n",
        "```\n",
        "\n",
        "\n",
        "このプログラムはhttp4kライブラリのHttpHandler、Jetty、およびasServerを使用している。\n",
        "\n",
        "- HttpHandler: HTTPリクエストを受け取って処理し、レスポンスを返すインターフェース。\n",
        "- Jetty: http4kが提供する組み込みサーバーの1つで、アプリケーションをJettyサーバー上で動かすことができる。\n",
        "\n",
        "2. main関数<br>\n",
        "a.サンプルデータの作成\n",
        "\n",
        "\n",
        "```\n",
        "val items = listOf(\"write chapter\", \"insert code\", \"draw diagrams\")\n",
        "val toDoList = ToDoList(ListName(\"book\"), items.map(::ToDoItem))\n",
        "val lists = mapOf(User(\"uberto\") to listOf(toDoList))\n",
        "```\n",
        "\n",
        "\n",
        "- items: サンプルのタスクリストを文字列として用意する。\n",
        "- toDoList: ListNameとして「book」という名前のリストを作成し、その中にToDoItemオブジェクトを含むタスクリストを入れている。\n",
        "- lists: User(\"uberto\")に対応するToDoリストのマップを作成する。ここでは1人のユーザーと1つのToDoリストのみだが、複数のユーザーとリストもサポートできる構造になっている。<br>\n",
        "\n",
        "b.アプリケーションの起動\n",
        "\n",
        "\n",
        "```\n",
        "val app: HttpHandler = Zettai(lists)\n",
        "app.asServer(Jetty(8080)).start()\n",
        "```\n",
        "\n",
        "\n",
        "- app: Zettai関数にリストデータを渡し、HTTPハンドラとしてアプリケーションを作成する。Zettaiはhttp4kのエンドポイントを設定するための関数。\n",
        "- asServer: Jettyサーバーを使い、ポート8080でアプリケーションを起動する。<br>\n",
        "\n",
        "c.サーバー開始メッセージ\n",
        "\n",
        "\n",
        "```\n",
        "println(\"Server started at http://localhost:8080/todo/uberto/book\")\n",
        "```\n",
        "\n",
        "\n",
        "サーバーのURLが表示され、ブラウザやHTTPクライアントでこのアドレスにアクセスすることで、このToDoリストアプリに接続できることを知らせている。\n"
      ],
      "metadata": {
        "id": "QcWckWbgowcn"
      }
    }
  ]
}