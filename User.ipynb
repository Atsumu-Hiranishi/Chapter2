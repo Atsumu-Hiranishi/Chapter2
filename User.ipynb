{
  "nbformat": 4,
  "nbformat_minor": 0,
  "metadata": {
    "colab": {
      "provenance": [],
      "authorship_tag": "ABX9TyOajyLPK8Ij5uRge26F+rX0",
      "include_colab_link": true
    },
    "kernelspec": {
      "name": "python3",
      "display_name": "Python 3"
    },
    "language_info": {
      "name": "python"
    }
  },
  "cells": [
    {
      "cell_type": "markdown",
      "metadata": {
        "id": "view-in-github",
        "colab_type": "text"
      },
      "source": [
        "<a href=\"https://colab.research.google.com/github/Atsumu-Hiranishi/Chapter2/blob/main/User.ipynb\" target=\"_parent\"><img src=\"https://colab.research.google.com/assets/colab-badge.svg\" alt=\"Open In Colab\"/></a>"
      ]
    },
    {
      "cell_type": "markdown",
      "source": [
        "## User.kt\n",
        "\n",
        "\n",
        "```\n",
        "data class User(val name: String)\n",
        "```\n",
        "\n",
        "\n",
        "- Userクラス: ユーザー情報を保持するためのデータクラス。\n",
        "- プロパティ name: String型で、ユーザーの名前を保持する。ユーザー名は識別用や表示用として利用される。"
      ],
      "metadata": {
        "id": "PiJK-1CfulqV"
      }
    }
  ]
}